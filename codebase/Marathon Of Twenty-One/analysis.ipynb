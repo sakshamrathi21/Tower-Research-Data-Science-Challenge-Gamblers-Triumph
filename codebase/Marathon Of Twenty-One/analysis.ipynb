{
 "cells": [
  {
   "cell_type": "markdown",
   "id": "0b312165-47dc-428b-90cc-2d6d6928e6b8",
   "metadata": {},
   "source": [
    "Use this notebook for any research you wish to do. We recommend doing it locally on your machines and later uploading the relevant code and models"
   ]
  },
  {
   "cell_type": "code",
   "execution_count": 1,
   "id": "a107f167-f73a-4842-ba9b-7189e13a3a95",
   "metadata": {},
   "outputs": [],
   "source": [
    "import numpy as np\n",
    "import copy\n",
    "import matplotlib.pyplot as plt\n",
    "import torch.nn as nn\n",
    "import torch\n",
    "import torch.optim as optim\n",
    "import sklearn\n",
    "from sklearn import metrics as metrics\n",
    "import Player"
   ]
  },
  {
   "cell_type": "code",
   "execution_count": 2,
   "id": "cb9cbc4a-f6d6-4a97-a505-4fde8291f7a6",
   "metadata": {},
   "outputs": [],
   "source": [
    "table_index=1"
   ]
  },
  {
   "cell_type": "code",
   "execution_count": 3,
   "id": "39dd9695-d3d1-4e31-bf93-2019e322e1c9",
   "metadata": {},
   "outputs": [],
   "source": [
    "#We are providing you with a utility to load the data, its usage is shown below.\n",
    "player_data = Player.data_loader(\"train.csv\", table_index, \"player\")"
   ]
  },
  {
   "cell_type": "code",
   "execution_count": 4,
   "id": "1da8a128-c953-4933-b005-8a3297d17f8c",
   "metadata": {},
   "outputs": [],
   "source": [
    "player_spy_series=player_data[:,0]\n",
    "player_card_series=player_data[:,1]"
   ]
  },
  {
   "cell_type": "code",
   "execution_count": 5,
   "id": "2bddcf46-2630-4111-a688-9bdcd26cc583",
   "metadata": {},
   "outputs": [],
   "source": [
    "dealer_data = Player.data_loader(\"train.csv\", table_index, \"dealer\")"
   ]
  },
  {
   "cell_type": "code",
   "execution_count": 6,
   "id": "1befa40c-451c-4ed2-9522-7deb60152f08",
   "metadata": {},
   "outputs": [],
   "source": [
    "dealer_spy_series=dealer_data[:,0]\n",
    "dealer_card_series=dealer_data[:,1]"
   ]
  },
  {
   "cell_type": "code",
   "execution_count": null,
   "id": "d0f0a0ad-29fd-4c02-955e-e0fb95ec8a22",
   "metadata": {},
   "outputs": [],
   "source": []
  }
 ],
 "metadata": {
  "kernelspec": {
   "display_name": "Python 3 (ipykernel)",
   "language": "python",
   "name": "python3"
  },
  "language_info": {
   "codemirror_mode": {
    "name": "ipython",
    "version": 3
   },
   "file_extension": ".py",
   "mimetype": "text/x-python",
   "name": "python",
   "nbconvert_exporter": "python",
   "pygments_lexer": "ipython3",
   "version": "3.9.12"
  }
 },
 "nbformat": 4,
 "nbformat_minor": 5
}
