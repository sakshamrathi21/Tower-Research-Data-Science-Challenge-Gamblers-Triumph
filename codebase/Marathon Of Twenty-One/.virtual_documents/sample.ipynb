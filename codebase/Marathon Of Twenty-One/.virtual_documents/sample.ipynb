import numpy as np
import copy
import matplotlib.pyplot as plt
import torch.nn as nn
import torch
import torch.optim as optim
import sklearn
from sklearn import metrics as metrics
import Player


table_index=1


player_data = Player.data_loader("train.csv", table_index, "player")


player_spy_series=player_data[:,0]
player_card_series=player_data[:,1]


dealer_data = Player.data_loader("train.csv", table_index, "dealer")


dealer_spy_series=dealer_data[:,0]
dealer_card_series=dealer_data[:,1]
