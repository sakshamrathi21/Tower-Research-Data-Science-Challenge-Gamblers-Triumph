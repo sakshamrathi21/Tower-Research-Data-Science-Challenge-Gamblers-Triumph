import numpy as np
import copy
import matplotlib.pyplot as plt
import torch.nn as nn
import torch
import torch.optim as optim
import sklearn
from sklearn import metrics as metrics
import pandas as pd
import calc_probability


table_index=4


dealer_data = calc_probability.data_loader("train.csv", table_index, "dealer")
dealer_cards=dealer_data[:,1]


calc_probability.bust_probability(dealer_cards)



