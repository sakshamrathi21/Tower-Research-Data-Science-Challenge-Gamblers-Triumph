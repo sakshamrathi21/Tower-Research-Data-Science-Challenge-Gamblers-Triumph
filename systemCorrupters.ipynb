{
 "cells": [
  {
   "cell_type": "markdown",
   "metadata": {},
   "source": [
    "# Part 1"
   ]
  },
  {
   "cell_type": "markdown",
   "metadata": {},
   "source": [
    "#### Completing `bust_probability` function"
   ]
  },
  {
   "cell_type": "code",
   "execution_count": 3,
   "metadata": {},
   "outputs": [],
   "source": [
    "import numpy as np\n",
    "import copy\n",
    "import matplotlib.pyplot as plt\n",
    "import torch.nn as nn\n",
    "import torch\n",
    "import torch.optim as optim\n",
    "import sklearn\n",
    "from sklearn import metrics as metrics\n",
    "import pandas as pd"
   ]
  },
  {
   "cell_type": "code",
   "execution_count": 4,
   "metadata": {},
   "outputs": [],
   "source": [
    "def data_loader(path, table_idx, player_or_dealer):\n",
    "    #utility for loading train.csv, example use in the notebook\n",
    "    data = pd.read_csv(path, header=[0,1,2])\n",
    "    spy = data[(f'table_{table_idx}', player_or_dealer, 'spy')]\n",
    "    card = data[(f'table_{table_idx}', player_or_dealer, 'card')]\n",
    "    return np.array([spy, card]).T"
   ]
  },
  {
   "cell_type": "code",
   "execution_count": 5,
   "metadata": {},
   "outputs": [],
   "source": [
    "def bust_probability(dealer_cards):\n",
    "    \"\"\"\n",
    "    dealer_cards: list -> integer series of player denoting value of cards observed upto this point\n",
    "\n",
    "    Current body is random for now, change it accordingly\n",
    "    \n",
    "    output: probability of going bust on this table\n",
    "    \"\"\"\n",
    "    bust_count = 0\n",
    "    total_cards = len(dealer_cards)\n",
    "    score = 0\n",
    "    for card in dealer_cards:\n",
    "        score += card\n",
    "        if score > 16:\n",
    "            if score > 21:\n",
    "                bust_count += 1\n",
    "            score = 0\n",
    "    return bust_count/total_cards"
   ]
  },
  {
   "cell_type": "code",
   "execution_count": 6,
   "metadata": {},
   "outputs": [
    {
     "name": "stdout",
     "output_type": "stream",
     "text": [
      "0 0.18865\n",
      "1 0.10155\n",
      "2 0.09175\n",
      "3 0.07995\n",
      "4 0.00055\n"
     ]
    }
   ],
   "source": [
    "for table_idx in range(0, 5):\n",
    "    dealer_data = data_loader(\"data/train.csv\", table_idx, \"dealer\")\n",
    "    dealer_cards = dealer_data[:,1]\n",
    "    print(table_idx, bust_probability(dealer_cards))"
   ]
  },
  {
   "cell_type": "markdown",
   "metadata": {},
   "source": [
    "### Two additional points for \"willingness to play\""
   ]
  },
  {
   "cell_type": "markdown",
   "metadata": {},
   "source": [
    "### **1. Effective House Edge (EHE)**  \n",
    "#### **Definition:**  \n",
    "This metric estimates the actual house edge at a given table based on observed outcomes rather than theoretical expectations. It measures the average percentage of a player’s bet lost per round.  \n",
    "\n",
    "#### **Formula:**  \n",
    "$$\n",
    "EHE = 1 - \\frac{\\text{Total player winnings}}{\\text{Total player bets}}\n",
    "$$\n",
    "where:  \n",
    "- **Total player winnings** = sum of all amounts won by players.  \n",
    "- **Total player bets** = sum of all bets placed by players.  \n",
    "\n",
    "#### **Strengths:**  \n",
    "- Captures the real-world profitability of a table.  \n",
    "- Accounts for both dealer performance and player behavior.  \n",
    "\n",
    "#### **Weaknesses:**  \n",
    "- Requires tracking actual bet sizes and payouts.  \n",
    "- Can be skewed if a few players make bad decisions.  \n",
    "\n",
    "---\n",
    "\n",
    "### **2. Volatility Score (VS)**  \n",
    "#### **Definition:**  \n",
    "Measures how unpredictable the dealer’s bust rate is across different hands.  \n",
    "A high volatility score suggests that the dealer’s performance is inconsistent.\n",
    "\n",
    "#### **Formula:**  \n",
    "$$\n",
    "VS = \\sigma_b = \\sqrt{\\frac{1}{N} \\sum_{i=1}^{N} (B_i - \\mu_b)^2}\n",
    "$$\n",
    "where:  \n",
    "- \\( $B_i$ \\) is the bust probability observed in past hands.  \n",
    "- \\( $\\mu_b$ \\) is the mean bust probability.  \n",
    "- \\( $\\sigma_b$ \\) is the standard deviation of bust probabilities.\n",
    "\n",
    "#### **Strengths:**  \n",
    "- Identifies tables with consistent dealer behavior (lower volatility is preferable).  \n",
    "- Helps risk-averse players avoid unpredictable situations.\n",
    "\n",
    "#### **Weaknesses:**  \n",
    "- Doesn’t directly indicate profitability.  \n",
    "- Requires enough historical data for accurate estimation."
   ]
  },
  {
   "cell_type": "markdown",
   "metadata": {},
   "source": [
    "# Part 2"
   ]
  },
  {
   "cell_type": "code",
   "execution_count": null,
   "metadata": {},
   "outputs": [],
   "source": []
  }
 ],
 "metadata": {
  "kernelspec": {
   "display_name": "Python 3",
   "language": "python",
   "name": "python3"
  },
  "language_info": {
   "codemirror_mode": {
    "name": "ipython",
    "version": 3
   },
   "file_extension": ".py",
   "mimetype": "text/x-python",
   "name": "python",
   "nbconvert_exporter": "python",
   "pygments_lexer": "ipython3",
   "version": "3.13.2"
  }
 },
 "nbformat": 4,
 "nbformat_minor": 2
}
