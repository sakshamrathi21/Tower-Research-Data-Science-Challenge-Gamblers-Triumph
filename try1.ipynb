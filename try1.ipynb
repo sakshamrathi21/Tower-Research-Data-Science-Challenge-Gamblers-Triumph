{
 "cells": [
  {
   "cell_type": "code",
   "execution_count": null,
   "metadata": {
    "vscode": {
     "languageId": "plaintext"
    }
   },
   "outputs": [],
   "source": [
    "import numpy as np\n",
    "import copy\n",
    "import matplotlib.pyplot as plt\n",
    "import torch.nn as nn\n",
    "import torch\n",
    "import torch.optim as optim\n",
    "import sklearn\n",
    "from sklearn import metrics as metrics\n",
    "import pandas as pd\n",
    "from collections import defaultdict\n",
    "\n",
    "def data_loader(path, table_idx, player_or_dealer):\n",
    "    #utility for loading train.csv, example use in the notebook\n",
    "    data = pd.read_csv(path, header=[0,1,2])\n",
    "    spy = data[(f'table_{table_idx}', player_or_dealer, 'spy')]\n",
    "    card = data[(f'table_{table_idx}', player_or_dealer, 'card')]\n",
    "    return np.array([spy, card]).T"
   ]
  }
 ],
 "metadata": {
  "language_info": {
   "name": "python"
  }
 },
 "nbformat": 4,
 "nbformat_minor": 2
}
